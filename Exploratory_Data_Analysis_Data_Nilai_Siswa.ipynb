{
  "nbformat": 4,
  "nbformat_minor": 0,
  "metadata": {
    "colab": {
      "provenance": [],
      "authorship_tag": "ABX9TyM77N3LCeBNnZbXiawbyO1W",
      "include_colab_link": true
    },
    "kernelspec": {
      "name": "python3",
      "display_name": "Python 3"
    },
    "language_info": {
      "name": "python"
    }
  },
  "cells": [
    {
      "cell_type": "markdown",
      "metadata": {
        "id": "view-in-github",
        "colab_type": "text"
      },
      "source": [
        "<a href=\"https://colab.research.google.com/github/Ghefira233/Data-Project/blob/main/Exploratory_Data_Analysis_Data_Nilai_Siswa.ipynb\" target=\"_parent\"><img src=\"https://colab.research.google.com/assets/colab-badge.svg\" alt=\"Open In Colab\"/></a>"
      ]
    },
    {
      "cell_type": "code",
      "metadata": {
        "id": "1pchsBxAHw4U",
        "colab": {
          "base_uri": "https://localhost:8080/",
          "height": 411
        },
        "outputId": "51c44c94-5e6e-43aa-b922-9edfdfe5dd5d"
      },
      "source": [
        "import numpy as np\n",
        "import pandas as pd\n",
        "import matplotlib.pyplot as plt\n",
        "import seaborn as sns\n",
        "\n",
        "NPM = 2006483694\n",
        "data = {'npm':np.random.randint(2006483694-10000,2006483694+10000,1000),\n",
        "        'nilai UTS':np.random.binomial(100,0.7,1000),\n",
        "        'nilai UAS':np.random.binomial(100,0.3,1000),\n",
        "        'nilai Tugas':np.random.normal(80,10,1000),\n",
        "        'kelas':250*['A','B','C','D']}\n",
        "df=pd.DataFrame(data)\n",
        "df"
      ],
      "execution_count": null,
      "outputs": [
        {
          "output_type": "execute_result",
          "data": {
            "text/html": [
              "<div>\n",
              "<style scoped>\n",
              "    .dataframe tbody tr th:only-of-type {\n",
              "        vertical-align: middle;\n",
              "    }\n",
              "\n",
              "    .dataframe tbody tr th {\n",
              "        vertical-align: top;\n",
              "    }\n",
              "\n",
              "    .dataframe thead th {\n",
              "        text-align: right;\n",
              "    }\n",
              "</style>\n",
              "<table border=\"1\" class=\"dataframe\">\n",
              "  <thead>\n",
              "    <tr style=\"text-align: right;\">\n",
              "      <th></th>\n",
              "      <th>npm</th>\n",
              "      <th>nilai UTS</th>\n",
              "      <th>nilai UAS</th>\n",
              "      <th>nilai Tugas</th>\n",
              "      <th>kelas</th>\n",
              "    </tr>\n",
              "  </thead>\n",
              "  <tbody>\n",
              "    <tr>\n",
              "      <th>0</th>\n",
              "      <td>2006482036</td>\n",
              "      <td>69</td>\n",
              "      <td>37</td>\n",
              "      <td>94.334845</td>\n",
              "      <td>A</td>\n",
              "    </tr>\n",
              "    <tr>\n",
              "      <th>1</th>\n",
              "      <td>2006491727</td>\n",
              "      <td>67</td>\n",
              "      <td>32</td>\n",
              "      <td>73.172334</td>\n",
              "      <td>B</td>\n",
              "    </tr>\n",
              "    <tr>\n",
              "      <th>2</th>\n",
              "      <td>2006478410</td>\n",
              "      <td>69</td>\n",
              "      <td>31</td>\n",
              "      <td>74.212838</td>\n",
              "      <td>C</td>\n",
              "    </tr>\n",
              "    <tr>\n",
              "      <th>3</th>\n",
              "      <td>2006474752</td>\n",
              "      <td>67</td>\n",
              "      <td>26</td>\n",
              "      <td>102.970583</td>\n",
              "      <td>D</td>\n",
              "    </tr>\n",
              "    <tr>\n",
              "      <th>4</th>\n",
              "      <td>2006473954</td>\n",
              "      <td>72</td>\n",
              "      <td>30</td>\n",
              "      <td>88.100548</td>\n",
              "      <td>A</td>\n",
              "    </tr>\n",
              "    <tr>\n",
              "      <th>...</th>\n",
              "      <td>...</td>\n",
              "      <td>...</td>\n",
              "      <td>...</td>\n",
              "      <td>...</td>\n",
              "      <td>...</td>\n",
              "    </tr>\n",
              "    <tr>\n",
              "      <th>995</th>\n",
              "      <td>2006486702</td>\n",
              "      <td>73</td>\n",
              "      <td>29</td>\n",
              "      <td>65.646097</td>\n",
              "      <td>D</td>\n",
              "    </tr>\n",
              "    <tr>\n",
              "      <th>996</th>\n",
              "      <td>2006484254</td>\n",
              "      <td>59</td>\n",
              "      <td>37</td>\n",
              "      <td>66.575130</td>\n",
              "      <td>A</td>\n",
              "    </tr>\n",
              "    <tr>\n",
              "      <th>997</th>\n",
              "      <td>2006484261</td>\n",
              "      <td>72</td>\n",
              "      <td>35</td>\n",
              "      <td>70.764132</td>\n",
              "      <td>B</td>\n",
              "    </tr>\n",
              "    <tr>\n",
              "      <th>998</th>\n",
              "      <td>2006487015</td>\n",
              "      <td>70</td>\n",
              "      <td>33</td>\n",
              "      <td>78.518918</td>\n",
              "      <td>C</td>\n",
              "    </tr>\n",
              "    <tr>\n",
              "      <th>999</th>\n",
              "      <td>2006480897</td>\n",
              "      <td>69</td>\n",
              "      <td>32</td>\n",
              "      <td>86.053767</td>\n",
              "      <td>D</td>\n",
              "    </tr>\n",
              "  </tbody>\n",
              "</table>\n",
              "<p>1000 rows × 5 columns</p>\n",
              "</div>"
            ],
            "text/plain": [
              "            npm  nilai UTS  nilai UAS  nilai Tugas kelas\n",
              "0    2006482036         69         37    94.334845     A\n",
              "1    2006491727         67         32    73.172334     B\n",
              "2    2006478410         69         31    74.212838     C\n",
              "3    2006474752         67         26   102.970583     D\n",
              "4    2006473954         72         30    88.100548     A\n",
              "..          ...        ...        ...          ...   ...\n",
              "995  2006486702         73         29    65.646097     D\n",
              "996  2006484254         59         37    66.575130     A\n",
              "997  2006484261         72         35    70.764132     B\n",
              "998  2006487015         70         33    78.518918     C\n",
              "999  2006480897         69         32    86.053767     D\n",
              "\n",
              "[1000 rows x 5 columns]"
            ]
          },
          "metadata": {
            "tags": []
          },
          "execution_count": 140
        }
      ]
    },
    {
      "cell_type": "code",
      "metadata": {
        "colab": {
          "base_uri": "https://localhost:8080/",
          "height": 411
        },
        "id": "ylxzbnEOpTOe",
        "outputId": "6fdd8ef0-1e91-4606-c837-4dd7a39873b7"
      },
      "source": [
        "df['nilai Total'] = ((0.35)*df['nilai UTS']+(0.4)*df['nilai UAS']+(0.25)*df['nilai Tugas']) #membuat kolom baru yaitu kolom nilai total\n",
        "df"
      ],
      "execution_count": null,
      "outputs": [
        {
          "output_type": "execute_result",
          "data": {
            "text/html": [
              "<div>\n",
              "<style scoped>\n",
              "    .dataframe tbody tr th:only-of-type {\n",
              "        vertical-align: middle;\n",
              "    }\n",
              "\n",
              "    .dataframe tbody tr th {\n",
              "        vertical-align: top;\n",
              "    }\n",
              "\n",
              "    .dataframe thead th {\n",
              "        text-align: right;\n",
              "    }\n",
              "</style>\n",
              "<table border=\"1\" class=\"dataframe\">\n",
              "  <thead>\n",
              "    <tr style=\"text-align: right;\">\n",
              "      <th></th>\n",
              "      <th>npm</th>\n",
              "      <th>nilai UTS</th>\n",
              "      <th>nilai UAS</th>\n",
              "      <th>nilai Tugas</th>\n",
              "      <th>kelas</th>\n",
              "      <th>nilai Total</th>\n",
              "    </tr>\n",
              "  </thead>\n",
              "  <tbody>\n",
              "    <tr>\n",
              "      <th>0</th>\n",
              "      <td>2006482036</td>\n",
              "      <td>69</td>\n",
              "      <td>37</td>\n",
              "      <td>94.334845</td>\n",
              "      <td>A</td>\n",
              "      <td>62.533711</td>\n",
              "    </tr>\n",
              "    <tr>\n",
              "      <th>1</th>\n",
              "      <td>2006491727</td>\n",
              "      <td>67</td>\n",
              "      <td>32</td>\n",
              "      <td>73.172334</td>\n",
              "      <td>B</td>\n",
              "      <td>54.543084</td>\n",
              "    </tr>\n",
              "    <tr>\n",
              "      <th>2</th>\n",
              "      <td>2006478410</td>\n",
              "      <td>69</td>\n",
              "      <td>31</td>\n",
              "      <td>74.212838</td>\n",
              "      <td>C</td>\n",
              "      <td>55.103210</td>\n",
              "    </tr>\n",
              "    <tr>\n",
              "      <th>3</th>\n",
              "      <td>2006474752</td>\n",
              "      <td>67</td>\n",
              "      <td>26</td>\n",
              "      <td>102.970583</td>\n",
              "      <td>D</td>\n",
              "      <td>59.592646</td>\n",
              "    </tr>\n",
              "    <tr>\n",
              "      <th>4</th>\n",
              "      <td>2006473954</td>\n",
              "      <td>72</td>\n",
              "      <td>30</td>\n",
              "      <td>88.100548</td>\n",
              "      <td>A</td>\n",
              "      <td>59.225137</td>\n",
              "    </tr>\n",
              "    <tr>\n",
              "      <th>...</th>\n",
              "      <td>...</td>\n",
              "      <td>...</td>\n",
              "      <td>...</td>\n",
              "      <td>...</td>\n",
              "      <td>...</td>\n",
              "      <td>...</td>\n",
              "    </tr>\n",
              "    <tr>\n",
              "      <th>995</th>\n",
              "      <td>2006486702</td>\n",
              "      <td>73</td>\n",
              "      <td>29</td>\n",
              "      <td>65.646097</td>\n",
              "      <td>D</td>\n",
              "      <td>53.561524</td>\n",
              "    </tr>\n",
              "    <tr>\n",
              "      <th>996</th>\n",
              "      <td>2006484254</td>\n",
              "      <td>59</td>\n",
              "      <td>37</td>\n",
              "      <td>66.575130</td>\n",
              "      <td>A</td>\n",
              "      <td>52.093782</td>\n",
              "    </tr>\n",
              "    <tr>\n",
              "      <th>997</th>\n",
              "      <td>2006484261</td>\n",
              "      <td>72</td>\n",
              "      <td>35</td>\n",
              "      <td>70.764132</td>\n",
              "      <td>B</td>\n",
              "      <td>56.891033</td>\n",
              "    </tr>\n",
              "    <tr>\n",
              "      <th>998</th>\n",
              "      <td>2006487015</td>\n",
              "      <td>70</td>\n",
              "      <td>33</td>\n",
              "      <td>78.518918</td>\n",
              "      <td>C</td>\n",
              "      <td>57.329729</td>\n",
              "    </tr>\n",
              "    <tr>\n",
              "      <th>999</th>\n",
              "      <td>2006480897</td>\n",
              "      <td>69</td>\n",
              "      <td>32</td>\n",
              "      <td>86.053767</td>\n",
              "      <td>D</td>\n",
              "      <td>58.463442</td>\n",
              "    </tr>\n",
              "  </tbody>\n",
              "</table>\n",
              "<p>1000 rows × 6 columns</p>\n",
              "</div>"
            ],
            "text/plain": [
              "            npm  nilai UTS  nilai UAS  nilai Tugas kelas  nilai Total\n",
              "0    2006482036         69         37    94.334845     A    62.533711\n",
              "1    2006491727         67         32    73.172334     B    54.543084\n",
              "2    2006478410         69         31    74.212838     C    55.103210\n",
              "3    2006474752         67         26   102.970583     D    59.592646\n",
              "4    2006473954         72         30    88.100548     A    59.225137\n",
              "..          ...        ...        ...          ...   ...          ...\n",
              "995  2006486702         73         29    65.646097     D    53.561524\n",
              "996  2006484254         59         37    66.575130     A    52.093782\n",
              "997  2006484261         72         35    70.764132     B    56.891033\n",
              "998  2006487015         70         33    78.518918     C    57.329729\n",
              "999  2006480897         69         32    86.053767     D    58.463442\n",
              "\n",
              "[1000 rows x 6 columns]"
            ]
          },
          "metadata": {
            "tags": []
          },
          "execution_count": 141
        }
      ]
    },
    {
      "cell_type": "markdown",
      "metadata": {
        "id": "-STWmCqp7mfa"
      },
      "source": [
        "# NOMOR 2 (VISUALISASI)"
      ]
    },
    {
      "cell_type": "code",
      "metadata": {
        "colab": {
          "base_uri": "https://localhost:8080/",
          "height": 404
        },
        "id": "T69um6iVicyn",
        "outputId": "e29b876e-72bd-4a90-e33c-ae90ee63fe2a"
      },
      "source": [
        "#MATPLOTLIB\n",
        "df.plot('kelas', 'nilai Total', kind='scatter', figsize=(10,6))\n",
        "plt.title('Scatter Plot')\n",
        "plt.show()"
      ],
      "execution_count": null,
      "outputs": [
        {
          "output_type": "display_data",
          "data": {
            "image/png": "[encoded data removed]",
            "text/plain": [
              "<Figure size 720x432 with 1 Axes>"
            ]
          },
          "metadata": {
            "tags": [],
            "needs_background": "light"
          }
        }
      ]
    },
    {
      "cell_type": "code",
      "metadata": {
        "colab": {
          "base_uri": "https://localhost:8080/",
          "height": 297
        },
        "id": "WwHj779V0XCC",
        "outputId": "284f937d-2a62-499c-c891-1235e6b5c920"
      },
      "source": [
        "#SEABORN\n",
        "sns.histplot(df['nilai Total'],color='y')"
      ],
      "execution_count": null,
      "outputs": [
        {
          "output_type": "execute_result",
          "data": {
            "text/plain": [
              "<matplotlib.axes._subplots.AxesSubplot at 0x7f783d887450>"
            ]
          },
          "metadata": {
            "tags": []
          },
          "execution_count": 148
        },
        {
          "output_type": "display_data",
          "data": {
            "image/png": "[encoded data removed]",
            "text/plain": [
              "<Figure size 432x288 with 1 Axes>"
            ]
          },
          "metadata": {
            "tags": [],
            "needs_background": "light"
          }
        }
      ]
    },
    {
      "cell_type": "markdown",
      "metadata": {
        "id": "ilWhSF_N7iL1"
      },
      "source": [
        "# NOMOR 1"
      ]
    },
    {
      "cell_type": "markdown",
      "metadata": {
        "id": "RlsDNX-7V9Fe"
      },
      "source": [
        "- A: nilai total >= 85\n",
        "- B: nilai total >= 75\n",
        "- C: nilai total >= 65\n",
        "- D: nilai total >= 55\n",
        "- E: nilai total < 55"
      ]
    },
    {
      "cell_type": "code",
      "metadata": {
        "colab": {
          "base_uri": "https://localhost:8080/",
          "height": 411
        },
        "id": "VSrZEtLMdTI_",
        "outputId": "71871565-20c4-4836-97ad-aef98b378ff6"
      },
      "source": [
        "nilai = []\n",
        "for i in range (1000):\n",
        "  angka = (0.35)*df['nilai UTS'][i]+(0.4)*df['nilai UAS'][i]+(0.25)*df['nilai Tugas'][i]\n",
        "  if angka>= 85:\n",
        "    nilai.append('A')\n",
        "  elif 75<= angka < 85:\n",
        "    nilai.append('B')\n",
        "  elif 65<= angka < 75:\n",
        "    nilai.append('C')\n",
        "  elif 55<= angka < 65:\n",
        "    nilai.append('D')\n",
        "  elif angka < 55:\n",
        "    nilai.append('E')\n",
        "df['nilai Tugas']=nilai\n",
        "df.drop(df.iloc[:,1:3], inplace=True, axis=1)\n",
        "df.columns=['npm','nilai Huruf','kelas','nilai Total']\n",
        "df"
      ],
      "execution_count": null,
      "outputs": [
        {
          "output_type": "execute_result",
          "data": {
            "text/html": [
              "<div>\n",
              "<style scoped>\n",
              "    .dataframe tbody tr th:only-of-type {\n",
              "        vertical-align: middle;\n",
              "    }\n",
              "\n",
              "    .dataframe tbody tr th {\n",
              "        vertical-align: top;\n",
              "    }\n",
              "\n",
              "    .dataframe thead th {\n",
              "        text-align: right;\n",
              "    }\n",
              "</style>\n",
              "<table border=\"1\" class=\"dataframe\">\n",
              "  <thead>\n",
              "    <tr style=\"text-align: right;\">\n",
              "      <th></th>\n",
              "      <th>npm</th>\n",
              "      <th>nilai Huruf</th>\n",
              "      <th>kelas</th>\n",
              "      <th>nilai Total</th>\n",
              "    </tr>\n",
              "  </thead>\n",
              "  <tbody>\n",
              "    <tr>\n",
              "      <th>0</th>\n",
              "      <td>2006482036</td>\n",
              "      <td>D</td>\n",
              "      <td>A</td>\n",
              "      <td>62.533711</td>\n",
              "    </tr>\n",
              "    <tr>\n",
              "      <th>1</th>\n",
              "      <td>2006491727</td>\n",
              "      <td>E</td>\n",
              "      <td>B</td>\n",
              "      <td>54.543084</td>\n",
              "    </tr>\n",
              "    <tr>\n",
              "      <th>2</th>\n",
              "      <td>2006478410</td>\n",
              "      <td>D</td>\n",
              "      <td>C</td>\n",
              "      <td>55.103210</td>\n",
              "    </tr>\n",
              "    <tr>\n",
              "      <th>3</th>\n",
              "      <td>2006474752</td>\n",
              "      <td>D</td>\n",
              "      <td>D</td>\n",
              "      <td>59.592646</td>\n",
              "    </tr>\n",
              "    <tr>\n",
              "      <th>4</th>\n",
              "      <td>2006473954</td>\n",
              "      <td>D</td>\n",
              "      <td>A</td>\n",
              "      <td>59.225137</td>\n",
              "    </tr>\n",
              "    <tr>\n",
              "      <th>...</th>\n",
              "      <td>...</td>\n",
              "      <td>...</td>\n",
              "      <td>...</td>\n",
              "      <td>...</td>\n",
              "    </tr>\n",
              "    <tr>\n",
              "      <th>995</th>\n",
              "      <td>2006486702</td>\n",
              "      <td>E</td>\n",
              "      <td>D</td>\n",
              "      <td>53.561524</td>\n",
              "    </tr>\n",
              "    <tr>\n",
              "      <th>996</th>\n",
              "      <td>2006484254</td>\n",
              "      <td>E</td>\n",
              "      <td>A</td>\n",
              "      <td>52.093782</td>\n",
              "    </tr>\n",
              "    <tr>\n",
              "      <th>997</th>\n",
              "      <td>2006484261</td>\n",
              "      <td>D</td>\n",
              "      <td>B</td>\n",
              "      <td>56.891033</td>\n",
              "    </tr>\n",
              "    <tr>\n",
              "      <th>998</th>\n",
              "      <td>2006487015</td>\n",
              "      <td>D</td>\n",
              "      <td>C</td>\n",
              "      <td>57.329729</td>\n",
              "    </tr>\n",
              "    <tr>\n",
              "      <th>999</th>\n",
              "      <td>2006480897</td>\n",
              "      <td>D</td>\n",
              "      <td>D</td>\n",
              "      <td>58.463442</td>\n",
              "    </tr>\n",
              "  </tbody>\n",
              "</table>\n",
              "<p>1000 rows × 4 columns</p>\n",
              "</div>"
            ],
            "text/plain": [
              "            npm nilai Huruf kelas  nilai Total\n",
              "0    2006482036           D     A    62.533711\n",
              "1    2006491727           E     B    54.543084\n",
              "2    2006478410           D     C    55.103210\n",
              "3    2006474752           D     D    59.592646\n",
              "4    2006473954           D     A    59.225137\n",
              "..          ...         ...   ...          ...\n",
              "995  2006486702           E     D    53.561524\n",
              "996  2006484254           E     A    52.093782\n",
              "997  2006484261           D     B    56.891033\n",
              "998  2006487015           D     C    57.329729\n",
              "999  2006480897           D     D    58.463442\n",
              "\n",
              "[1000 rows x 4 columns]"
            ]
          },
          "metadata": {
            "tags": []
          },
          "execution_count": 144
        }
      ]
    },
    {
      "cell_type": "code",
      "metadata": {
        "id": "qrIq1fPfe1al",
        "colab": {
          "base_uri": "https://localhost:8080/"
        },
        "outputId": "5fd0b3a3-c79a-4905-a2ae-0addc1a2645d"
      },
      "source": [
        "df.groupby('nilai Huruf')['kelas'].count()"
      ],
      "execution_count": null,
      "outputs": [
        {
          "output_type": "execute_result",
          "data": {
            "text/plain": [
              "nilai Huruf\n",
              "C      8\n",
              "D    656\n",
              "E    336\n",
              "Name: kelas, dtype: int64"
            ]
          },
          "metadata": {
            "tags": []
          },
          "execution_count": 145
        }
      ]
    },
    {
      "cell_type": "markdown",
      "metadata": {
        "id": "dFDf3UkG7cAd"
      },
      "source": [
        "# NOMOR 3"
      ]
    },
    {
      "cell_type": "markdown",
      "metadata": {
        "id": "qS7AbZ_Nhnol"
      },
      "source": [
        "- Dari scatterplot, dapat kita lihat bahwa terdapat 1 outlier di kelas A dan 3 outlier di kelas B. Rata-rata mahasiswa di kelas A hingga D memiliki nilai berkisar dari 50 hingga 65 (atau setara dengan nilai huruf C hingga E). Lalu, kelas B merupakan kelas yang memiliki nilai total tertinggi serta nilai total terendah dari semua kelas dan kelas D merupakan kelas yang memiliki perbedaan nilai yang paling tidak jauh dibanding kelas lainnya.\n",
        "- Dari histplot, dapat kita lihat bahwa nilai total tertinggi nya adalah 68 dan nilai total terendahnya adalah 43 dengan modusnya adalah nilai 57. Mahasiswa yang mendapatkan nilai C (nilai total >= 65) adalah sebanyak 8 orang, nilai D (nilai total >= 55) sebanyak 656 orang dan nilai E (nilai total < 55) sebanyak 336 orang. \n",
        "---\n",
        "Ini menunjukkan bahwa setiap kelas memiliki nilai yang kurang baik, terlebih tidak ada mahasiswa yang memiliki nilai A dan B. Sehingga sangat disarankan bagi mahasiswa untuk lebih belajar dengan giat dan juga diberikan perhatian khusus untuk mahasiswa di kelas B yang mendapatkan nilai 43 😊\n"
      ]
    },
    {
      "cell_type": "code",
      "metadata": {
        "id": "xor6Oiu4KvdP"
      },
      "source": [],
      "execution_count": null,
      "outputs": []
    }
  ]
}